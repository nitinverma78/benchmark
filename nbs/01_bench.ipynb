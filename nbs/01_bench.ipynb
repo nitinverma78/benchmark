{
 "cells": [
  {
   "cell_type": "markdown",
   "metadata": {},
   "source": [
    "# bench\n",
    "\n",
    "> This module conducts benchmarking of various sorting algorithms acorss various data and compute paradigms"
   ]
  },
  {
   "cell_type": "code",
   "execution_count": null,
   "metadata": {},
   "outputs": [
    {
     "name": "stdout",
     "output_type": "stream",
     "text": [
      "The autoreload extension is already loaded. To reload it, use:\n",
      "  %reload_ext autoreload\n"
     ]
    }
   ],
   "source": [
    "%load_ext autoreload\n",
    "%autoreload 2"
   ]
  },
  {
   "cell_type": "code",
   "execution_count": null,
   "metadata": {},
   "outputs": [],
   "source": [
    "#| default_exp bench"
   ]
  },
  {
   "cell_type": "code",
   "execution_count": null,
   "metadata": {},
   "outputs": [],
   "source": [
    "#| export\n",
    "from __future__ import annotations"
   ]
  },
  {
   "cell_type": "code",
   "execution_count": null,
   "metadata": {},
   "outputs": [],
   "source": [
    "#| hide\n",
    "from nbdev.showdoc import *\n",
    "from fastcore.test import *"
   ]
  },
  {
   "cell_type": "code",
   "execution_count": null,
   "metadata": {},
   "outputs": [],
   "source": [
    "#| export\n",
    "from fastcore.utils import *\n"
   ]
  },
  {
   "cell_type": "markdown",
   "metadata": {},
   "source": [
    "# setup"
   ]
  },
  {
   "cell_type": "code",
   "execution_count": null,
   "metadata": {},
   "outputs": [],
   "source": [
    "#| export\n",
    "from fastcore.xtras import globtastic\n",
    "from importlib import import_module\n",
    "import sys, os\n",
    "from pathlib import Path"
   ]
  },
  {
   "cell_type": "code",
   "execution_count": null,
   "metadata": {},
   "outputs": [],
   "source": [
    "#| export\n",
    "def get_algs(fldr, fltr, incl_file='*.py', excl_fldr='excl'):\n",
    "    'list of all algos from `fldr` by scanning files that have `fltr` in their names'\n",
    "    algs = []\n",
    "    fps = globtastic(path = fldr, file_glob=incl_file, file_re=fltr, skip_folder_re=excl_fldr)\n",
    "    for fp in fps:\n",
    "        *fldr, fl = fp.split(\"/\")\n",
    "        alg, _ = fl.split(\".\")\n",
    "        algs.append(alg)\n",
    "    return algs\n"
   ]
  },
  {
   "cell_type": "code",
   "execution_count": null,
   "metadata": {},
   "outputs": [],
   "source": [
    "#| export\n",
    "def _get_scope(fldr, dist_families, nV):\n",
    "    *_, alg_type = fldr.split('/')\n",
    "    algs = get_algs(fldr, filter_file=alg_type)\n",
    "    sys.path.append(os.path.join(Path.cwd(), os.pardir, alg_type))\n",
    "    modul = {alg: import_module(alg) for alg in algs}\n",
    "    #distributions of data that need to be sorted\n",
    "    fams = [d for d in dist_families if d in [\"float\",\"int\",\"normal\",\"lognormal\",\"binomial\",\"exponential\",\"range\"]]\n",
    "    sds = list(range(nV)) #variations for given distribution\n",
    "    return alg_type, algs, modul, fams, sds"
   ]
  },
  {
   "cell_type": "markdown",
   "metadata": {},
   "source": [
    "# runs"
   ]
  },
  {
   "cell_type": "code",
   "execution_count": null,
   "metadata": {},
   "outputs": [],
   "source": [
    "#| export\n",
    "from fastcore.parallel import parallel\n",
    "import numpy as np\n",
    "from collections import namedtuple"
   ]
  },
  {
   "cell_type": "code",
   "execution_count": null,
   "metadata": {},
   "outputs": [],
   "source": [
    "#| export\n",
    "def gen(fam: str|None=None, # distribution family\n",
    "        n: int=0, # array of size\n",
    "        sd: int=0, # random seed\n",
    "        )->np.ndarray|list: # generate data\n",
    "    \" generate array of size `'n` using random distribution from `fam` and seed `sd`\"\n",
    "\n",
    "    np.random.seed(sd)\n",
    "\n",
    "    if fam == \"float\":\n",
    "        val = np.random.random(n)\n",
    "    elif fam == \"int\":\n",
    "        val = np.random.randint(low=n*(-100), high=n*100, size=n)\n",
    "    elif fam == \"normal\":\n",
    "        val = np.random.randn(n)\n",
    "    elif fam == \"lognormal\":\n",
    "        val = np.random.lognormal(size=n)\n",
    "    elif fam == \"binomial\":\n",
    "        val = np.random.binomial(10*n, 0.5, size=n)\n",
    "    elif fam == \"exponential\":\n",
    "        val = np.random.exponential(size=n)\n",
    "    else: #\"range\"\n",
    "        start = -int(n/2); stop = start + n\n",
    "        val = list(reversed(range(start, stop)))\n",
    "\n",
    "    return val\n",
    "\n",
    "    # exponential (λ)"
   ]
  },
  {
   "cell_type": "code",
   "execution_count": null,
   "metadata": {},
   "outputs": [],
   "source": [
    "test_eq(gen(),[])\n",
    "test_eq(gen(n=1),[0])\n",
    "test_eq(gen(n=3),[1,0,-1])"
   ]
  },
  {
   "cell_type": "code",
   "execution_count": null,
   "metadata": {},
   "outputs": [],
   "source": [
    "#| export\n",
    "def _run_alg(distn, modul, typ, task, **kwargs):\n",
    "    #print(distn, modul, typ, task, kwargs)\n",
    "    alg, dat = task.alg, task.dat\n",
    "    arr = distn.setdefault(dat, gen(dat.fam,dat.sz,dat.sd))\n",
    "    #modul[alg].sort(arr)\n",
    "    if modul:\n",
    "        algo = getattr(modul[alg], typ)\n",
    "        res = algo(arr, **kwargs)\n",
    "    #print(res, arr)"
   ]
  },
  {
   "cell_type": "code",
   "execution_count": null,
   "metadata": {},
   "outputs": [],
   "source": [
    "#| export\n",
    "import time"
   ]
  },
  {
   "cell_type": "code",
   "execution_count": null,
   "metadata": {},
   "outputs": [],
   "source": [
    "#| export\n",
    "\n",
    "def _timeit(method):\n",
    "    def timed(*args, **kwargs):\n",
    "        ts = time.time()\n",
    "        result = method(*args, **kwargs)\n",
    "        te = time.time()\n",
    "        return  (te - ts) * 1000 / (result if result>0 else 1) #avg time per task in milli seconds\n",
    "    return timed"
   ]
  },
  {
   "cell_type": "code",
   "execution_count": null,
   "metadata": {},
   "outputs": [],
   "source": [
    "#| export\n",
    "@_timeit\n",
    "def _run(tasks, distn, modul, typ, sub_szs, sub_algs, sub_fams, **kwargs):\n",
    "    sub_tasks = [task for task in tasks if task.dat.sz in sub_szs and task.alg in sub_algs and task.dat.fam in sub_fams]\n",
    "    parallel(_run_alg, sub_tasks, distn, modul, typ, **kwargs, threadpool=False, progress=False, n_workers=0) # variations run in parallel depending on #cpu-cores\n",
    "    return len(sub_tasks)"
   ]
  },
  {
   "cell_type": "markdown",
   "metadata": {},
   "source": [
    "# plots"
   ]
  },
  {
   "cell_type": "code",
   "execution_count": null,
   "metadata": {},
   "outputs": [],
   "source": [
    "#| export\n",
    "import matplotlib.pyplot as plt"
   ]
  },
  {
   "cell_type": "code",
   "execution_count": null,
   "metadata": {},
   "outputs": [],
   "source": [
    "#| export\n",
    "# plot for given order of magnitude, performance by algorithms and optionally by data distributions\n",
    "def plot(sz, runs, algs, fams, typ):\n",
    "    \"\"\" generate plot for each array of `'sz` using results of `runs` for set of `'algs` of `typ` \"\"\"\n",
    "    fig, ax = plt.subplots()\n",
    "    ax.set_title(f'Benchmark by {typ} alg for data of size {sz}')\n",
    "    ax.set_ylabel('Run times (ms)')\n",
    "    ax.set_xticks(range(len(algs)), algs, rotation = 'vertical')\n",
    "    width = 0.2\n",
    "    for i, fam in enumerate(fams,-int(0.5*len(fams))):\n",
    "        run_times = [runs[sz, alg, fam] for alg in algs]\n",
    "        ax.bar(np.arange(len(algs))+i*width, run_times, width ,label=f'{fam}')\n",
    "    ax.legend(fontsize='xx-small')\n",
    "    \n",
    "    fig.tight_layout()\n",
    "    plt.show()"
   ]
  },
  {
   "cell_type": "markdown",
   "metadata": {},
   "source": [
    "# main"
   ]
  },
  {
   "cell_type": "code",
   "execution_count": null,
   "metadata": {},
   "outputs": [],
   "source": [
    "#| export\n",
    "def benchmark(alg_fldr, data_sizes=[10], dist_families=[\"float\",\"int\",\"normal\",\"lognormal\",\"binomial\",\"exponential\",\"range\"] , num_variations=1, **kwargs):\n",
    "    typ, algs, modul, fams, sds, szs = *_get_scope(alg_fldr, dist_families, num_variations), data_sizes\n",
    "    \n",
    "    Dat = namedtuple('Dat',['fam', 'sz', 'sd'])\n",
    "    dats = [dat:=Dat(fam, sz, sd) for fam in fams for sz in szs for sd in sds]\n",
    "    \n",
    "    Task = namedtuple('Task',['alg', 'dat'])\n",
    "    tasks = [task:=Task(alg, dat) for alg in algs for dat in dats]  \n",
    "    \n",
    "    # run-times for all compute paradigms\n",
    "    distn = {};\n",
    "    runs = {(sz, alg, fam): _run(tasks, distn, modul, typ, [sz], [alg], [fam], **kwargs) for sz in szs for alg in algs for fam in fams}\n",
    "\n",
    "    #plot\n",
    "    for sz in szs:\n",
    "        plot(sz, runs, algs, fams, typ)\n",
    "\n"
   ]
  },
  {
   "cell_type": "code",
   "execution_count": null,
   "metadata": {},
   "outputs": [],
   "source": [
    "#| export\n",
    "from fastcore.script import *\n",
    "#@call_parse\n",
    "def main(fldr:str,     # The relative path to folder which contain all algorithms to run\n",
    "         **kwargs):    # Optional parameters that the algorithm take\n",
    "    \"Benchmark and plot runtime performance of algorithms stored in `fldr`, and optionally provide additional prameters for the algorithm\"\n",
    "    #benchmark('../search', target=1)\n",
    "    #benchmark('../sort')\n",
    "    benchmark(fldr, **kwargs)\n"
   ]
  },
  {
   "cell_type": "markdown",
   "metadata": {},
   "source": [
    "# usage"
   ]
  },
  {
   "cell_type": "code",
   "execution_count": null,
   "metadata": {},
   "outputs": [
    {
     "ename": "TypeError",
     "evalue": "get_algs() got an unexpected keyword argument 'filter_file'",
     "output_type": "error",
     "traceback": [
      "\u001b[0;31m---------------------------------------------------------------------------\u001b[0m",
      "\u001b[0;31mTypeError\u001b[0m                                 Traceback (most recent call last)",
      "Cell \u001b[0;32mIn[216], line 1\u001b[0m\n\u001b[0;32m----> 1\u001b[0m main(\u001b[39m'\u001b[39;49m\u001b[39m../sort\u001b[39;49m\u001b[39m'\u001b[39;49m, data_sizes\u001b[39m=\u001b[39;49m[\u001b[39m10\u001b[39;49m, \u001b[39m1000\u001b[39;49m], dist_families\u001b[39m=\u001b[39;49m[\u001b[39m\"\u001b[39;49m\u001b[39mrange\u001b[39;49m\u001b[39m\"\u001b[39;49m,\u001b[39m\"\u001b[39;49m\u001b[39mint\u001b[39;49m\u001b[39m\"\u001b[39;49m])\n\u001b[1;32m      2\u001b[0m main(\u001b[39m'\u001b[39m\u001b[39m../search\u001b[39m\u001b[39m'\u001b[39m, data_sizes\u001b[39m=\u001b[39m[\u001b[39m10\u001b[39m, \u001b[39m1000\u001b[39m], dist_families\u001b[39m=\u001b[39m[\u001b[39m\"\u001b[39m\u001b[39mrange\u001b[39m\u001b[39m\"\u001b[39m,\u001b[39m\"\u001b[39m\u001b[39mint\u001b[39m\u001b[39m\"\u001b[39m])\n",
      "Cell \u001b[0;32mIn[215], line 9\u001b[0m, in \u001b[0;36mmain\u001b[0;34m(fldr, **kwargs)\u001b[0m\n\u001b[1;32m      6\u001b[0m \u001b[39m\"\u001b[39m\u001b[39mBenchmark and plot runtime performance of algorithms stored in `fldr`, and optionally provide additional prameters for the algorithm\u001b[39m\u001b[39m\"\u001b[39m\n\u001b[1;32m      7\u001b[0m \u001b[39m#benchmark('../search', target=1)\u001b[39;00m\n\u001b[1;32m      8\u001b[0m \u001b[39m#benchmark('../sort')\u001b[39;00m\n\u001b[0;32m----> 9\u001b[0m benchmark(fldr, \u001b[39m*\u001b[39;49m\u001b[39m*\u001b[39;49mkwargs)\n",
      "Cell \u001b[0;32mIn[214], line 3\u001b[0m, in \u001b[0;36mbenchmark\u001b[0;34m(alg_fldr, data_sizes, dist_families, num_variations, **kwargs)\u001b[0m\n\u001b[1;32m      2\u001b[0m \u001b[39mdef\u001b[39;00m \u001b[39mbenchmark\u001b[39m(alg_fldr, data_sizes\u001b[39m=\u001b[39m[\u001b[39m10\u001b[39m], dist_families\u001b[39m=\u001b[39m[\u001b[39m\"\u001b[39m\u001b[39mfloat\u001b[39m\u001b[39m\"\u001b[39m,\u001b[39m\"\u001b[39m\u001b[39mint\u001b[39m\u001b[39m\"\u001b[39m,\u001b[39m\"\u001b[39m\u001b[39mnormal\u001b[39m\u001b[39m\"\u001b[39m,\u001b[39m\"\u001b[39m\u001b[39mlognormal\u001b[39m\u001b[39m\"\u001b[39m,\u001b[39m\"\u001b[39m\u001b[39mbinomial\u001b[39m\u001b[39m\"\u001b[39m,\u001b[39m\"\u001b[39m\u001b[39mexponential\u001b[39m\u001b[39m\"\u001b[39m,\u001b[39m\"\u001b[39m\u001b[39mrange\u001b[39m\u001b[39m\"\u001b[39m] , num_variations\u001b[39m=\u001b[39m\u001b[39m1\u001b[39m, \u001b[39m*\u001b[39m\u001b[39m*\u001b[39mkwargs):\n\u001b[0;32m----> 3\u001b[0m     typ, algs, modul, fams, sds, szs \u001b[39m=\u001b[39m \u001b[39m*\u001b[39m_get_scope(alg_fldr, dist_families, num_variations), data_sizes\n\u001b[1;32m      5\u001b[0m     Dat \u001b[39m=\u001b[39m namedtuple(\u001b[39m'\u001b[39m\u001b[39mDat\u001b[39m\u001b[39m'\u001b[39m,[\u001b[39m'\u001b[39m\u001b[39mfam\u001b[39m\u001b[39m'\u001b[39m, \u001b[39m'\u001b[39m\u001b[39msz\u001b[39m\u001b[39m'\u001b[39m, \u001b[39m'\u001b[39m\u001b[39msd\u001b[39m\u001b[39m'\u001b[39m])\n\u001b[1;32m      6\u001b[0m     dats \u001b[39m=\u001b[39m [dat\u001b[39m:=\u001b[39mDat(fam, sz, sd) \u001b[39mfor\u001b[39;00m fam \u001b[39min\u001b[39;00m fams \u001b[39mfor\u001b[39;00m sz \u001b[39min\u001b[39;00m szs \u001b[39mfor\u001b[39;00m sd \u001b[39min\u001b[39;00m sds]\n",
      "Cell \u001b[0;32mIn[204], line 4\u001b[0m, in \u001b[0;36m_get_scope\u001b[0;34m(fldr, dist_families, nV)\u001b[0m\n\u001b[1;32m      2\u001b[0m \u001b[39mdef\u001b[39;00m \u001b[39m_get_scope\u001b[39m(fldr, dist_families, nV):\n\u001b[1;32m      3\u001b[0m     \u001b[39m*\u001b[39m_, alg_type \u001b[39m=\u001b[39m fldr\u001b[39m.\u001b[39msplit(\u001b[39m'\u001b[39m\u001b[39m/\u001b[39m\u001b[39m'\u001b[39m)\n\u001b[0;32m----> 4\u001b[0m     algs \u001b[39m=\u001b[39m get_algs(fldr, filter_file\u001b[39m=\u001b[39;49malg_type)\n\u001b[1;32m      5\u001b[0m     sys\u001b[39m.\u001b[39mpath\u001b[39m.\u001b[39mappend(os\u001b[39m.\u001b[39mpath\u001b[39m.\u001b[39mjoin(Path\u001b[39m.\u001b[39mcwd(), os\u001b[39m.\u001b[39mpardir, alg_type))\n\u001b[1;32m      6\u001b[0m     modul \u001b[39m=\u001b[39m {alg: import_module(alg) \u001b[39mfor\u001b[39;00m alg \u001b[39min\u001b[39;00m algs}\n",
      "\u001b[0;31mTypeError\u001b[0m: get_algs() got an unexpected keyword argument 'filter_file'"
     ]
    }
   ],
   "source": [
    "main('../sort', data_sizes=[10, 1000], dist_families=[\"range\",\"int\"])\n",
    "main('../search', data_sizes=[10, 1000], dist_families=[\"range\",\"int\"])"
   ]
  },
  {
   "cell_type": "code",
   "execution_count": null,
   "metadata": {},
   "outputs": [],
   "source": [
    "test_eq(1+1,2)"
   ]
  },
  {
   "cell_type": "code",
   "execution_count": null,
   "metadata": {},
   "outputs": [],
   "source": [
    "#| hide\n",
    "import nbdev; nbdev.nbdev_export()"
   ]
  }
 ],
 "metadata": {
  "kernelspec": {
   "display_name": "python3",
   "language": "python",
   "name": "python3"
  }
 },
 "nbformat": 4,
 "nbformat_minor": 4
}
